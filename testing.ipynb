{
  "nbformat": 4,
  "nbformat_minor": 0,
  "metadata": {
    "colab": {
      "provenance": [],
      "gpuType": "T4"
    },
    "kernelspec": {
      "name": "python3",
      "display_name": "Python 3"
    },
    "language_info": {
      "name": "python"
    },
    "accelerator": "GPU"
  },
  "cells": [
    {
      "cell_type": "code",
      "source": [
        "!unzip /content/bert_profanity_model.zip -d destination_folder"
      ],
      "metadata": {
        "colab": {
          "base_uri": "https://localhost:8080/"
        },
        "id": "d5jIRIZeswn5",
        "outputId": "465b41ab-9d5b-4385-a066-a112160393cd"
      },
      "execution_count": 8,
      "outputs": [
        {
          "output_type": "stream",
          "name": "stdout",
          "text": [
            "Archive:  /content/bert_profanity_model.zip\n",
            "   creating: destination_folder/content/bert_profanity_model/\n",
            "  inflating: destination_folder/content/bert_profanity_model/config.json  \n",
            "  inflating: destination_folder/content/bert_profanity_model/special_tokens_map.json  \n",
            "  inflating: destination_folder/content/bert_profanity_model/vocab.txt  \n",
            "  inflating: destination_folder/content/bert_profanity_model/tokenizer_config.json  \n",
            "  inflating: destination_folder/content/bert_profanity_model/model.safetensors  \n"
          ]
        }
      ]
    },
    {
      "cell_type": "code",
      "source": [
        "from transformers import AutoTokenizer, AutoModelForSequenceClassification\n",
        "import torch\n",
        "\n",
        "# ----- Offensive Detection Setup -----\n",
        "model_path = \"/content/destination_folder/content/bert_profanity_model\"\n",
        "tokenizer_offensive = AutoTokenizer.from_pretrained(model_path)\n",
        "model_offensive = AutoModelForSequenceClassification.from_pretrained(model_path)\n",
        "\n",
        "def predict_offensiveness(text):\n",
        "    \"\"\"\n",
        "    Predicts the offensiveness of the text.\n",
        "    Returns the offensive probability.\n",
        "    \"\"\"\n",
        "    inputs = tokenizer_offensive(text, return_tensors=\"pt\", truncation=True, padding=True)\n",
        "    outputs = model_offensive(**inputs)\n",
        "    probabilities = torch.nn.functional.softmax(outputs.logits, dim=-1)\n",
        "    offensive_probability = probabilities[0][1].item()\n",
        "    return offensive_probability\n",
        "\n",
        "# ---- Get user input ----\n",
        "while True:\n",
        "    text = input(\"Enter a sentence (or type 'exit' to quit): \")\n",
        "    if text.lower() == 'exit':\n",
        "        break\n",
        "    probability = predict_offensiveness(text)\n",
        "    print(f\"Offensive Probability: {probability:.4f}\")"
      ],
      "metadata": {
        "collapsed": true,
        "id": "ohI7t_X_FOBP"
      },
      "execution_count": 22,
      "outputs": []
    }
  ]
}