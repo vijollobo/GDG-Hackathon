{
  "cells": [
    {
      "cell_type": "markdown",
      "metadata": {
        "id": "Yv1_G-7igxGT"
      },
      "source": [
        "# Runnout"
      ]
    },
    {
      "cell_type": "code",
      "execution_count": 11,
      "metadata": {
        "colab": {
          "base_uri": "https://localhost:8080/",
          "height": 17
        },
        "id": "EdByLNN5gwfx",
        "outputId": "838fe745-c171-492e-92b4-c9cd70427c79"
      },
      "outputs": [
        {
          "data": {
            "application/javascript": "\nfunction ClickConnect(){\n    console.log(\"Connecting...\"); \n    document.querySelector(\"colab-connect-button\").click() \n}\nsetInterval(ClickConnect, 60000)\n",
            "text/plain": [
              "<IPython.core.display.Javascript object>"
            ]
          },
          "metadata": {},
          "output_type": "display_data"
        }
      ],
      "source": [
        "# Keep Colab from disconnecting\n",
        "from IPython.display import display, Javascript\n",
        "display(Javascript('''\n",
        "function ClickConnect(){\n",
        "    console.log(\"Connecting...\");\n",
        "    document.querySelector(\"colab-connect-button\").click()\n",
        "}\n",
        "setInterval(ClickConnect, 60000)\n",
        "'''))"
      ]
    },
    {
      "cell_type": "markdown",
      "metadata": {
        "id": "Y2mhNxVqgt1P"
      },
      "source": [
        "# Libraries"
      ]
    },
    {
      "cell_type": "code",
      "execution_count": 12,
      "metadata": {
        "id": "Ctkmw6jQZwoj"
      },
      "outputs": [],
      "source": [
        "!pip install streamlit pyngrok requests transformers torch accelerate bitsandbytes huggingface_hub --quiet"
      ]
    },
    {
      "cell_type": "markdown",
      "metadata": {
        "id": "V6SnCktfiZH0"
      },
      "source": [
        "# Expossing API Properly"
      ]
    },
    {
      "cell_type": "code",
      "execution_count": 13,
      "metadata": {
        "colab": {
          "base_uri": "https://localhost:8080/"
        },
        "id": "M4VqPsm9iWaV",
        "outputId": "7c518aa9-ff7e-4be9-ecf3-2171df7840ec"
      },
      "outputs": [
        {
          "name": "stdout",
          "output_type": "stream",
          "text": [
            "Streamlit secrets file created successfully\n"
          ]
        }
      ],
      "source": [
        "# Run this cell before launching Streamlit to create the secrets file\n",
        "import os\n",
        "\n",
        "# Create the .streamlit directory if it doesn't exist\n",
        "os.makedirs('/root/.streamlit', exist_ok=True)\n",
        "\n",
        "# Get secrets from Colab environment\n",
        "hf_token = os.environ.get(\"HUGGING_FACE_HUB_TOKEN\", \"\")\n",
        "perspective_key = os.environ.get(\"PERSPECTIVE_API_KEY\", \"\")\n",
        "\n",
        "# Write to secrets.toml file\n",
        "with open('/root/.streamlit/secrets.toml', 'w') as f:\n",
        "    f.write(f'HUGGING_FACE_HUB_TOKEN = \"{hf_token}\"\\n')\n",
        "    f.write(f'PERSPECTIVE_API_KEY = \"{perspective_key}\"\\n')\n",
        "\n",
        "print(\"Streamlit secrets file created successfully\")"
      ]
    },
    {
      "cell_type": "markdown",
      "metadata": {
        "id": "iDnIN0nuidTy"
      },
      "source": [
        "# Crteating streamlit.toml file"
      ]
    },
    {
      "cell_type": "code",
      "execution_count": 14,
      "metadata": {
        "colab": {
          "base_uri": "https://localhost:8080/"
        },
        "id": "KVNAUeQWidEr",
        "outputId": "28456e39-f29f-4489-bc12-9feef2f047e1"
      },
      "outputs": [
        {
          "name": "stdout",
          "output_type": "stream",
          "text": [
            "Streamlit secrets file created successfully\n"
          ]
        }
      ],
      "source": [
        "# Run this cell before launching Streamlit to create the secrets file\n",
        "import os\n",
        "\n",
        "# Create the .streamlit directory if it doesn't exist\n",
        "os.makedirs('/root/.streamlit', exist_ok=True)\n",
        "\n",
        "# Get secrets from Colab environment\n",
        "hf_token = os.environ.get(\"HUGGING_FACE_HUB_TOKEN\", \"\")\n",
        "perspective_key = os.environ.get(\"PERSPECTIVE_API_KEY\", \"\")\n",
        "\n",
        "# Write to secrets.toml file\n",
        "with open('/root/.streamlit/secrets.toml', 'w') as f:\n",
        "    f.write(f'HUGGING_FACE_HUB_TOKEN = \"{hf_token}\"\\n')\n",
        "    f.write(f'PERSPECTIVE_API_KEY = \"{perspective_key}\"\\n')\n",
        "\n",
        "print(\"Streamlit secrets file created successfully\")"
      ]
    },
    {
      "cell_type": "markdown",
      "metadata": {
        "id": "qfgX9PD7bSH9"
      },
      "source": [
        "# ngrok Tunneling"
      ]
    },
    {
      "cell_type": "code",
      "execution_count": null,
      "metadata": {
        "colab": {
          "base_uri": "https://localhost:8080/"
        },
        "id": "5QcOgd0maGz9",
        "outputId": "8631d064-d17d-4827-d1d8-2a58c739e8b2"
      },
      "outputs": [
        {
          "name": "stdout",
          "output_type": "stream",
          "text": [
            "^C\n",
            "nohup: appending output to 'nohup.out'\n",
            "==================================================\n",
            "Streamlit is running at: NgrokTunnel: \"https://9ee4-34-125-143-160.ngrok-free.app\" -> \"http://localhost:8501\"\n",
            "==================================================\n",
            "Active tunnel: https://9ee4-34-125-143-160.ngrok-free.app\n",
            "Active tunnel: https://9ee4-34-125-143-160.ngrok-free.app\n",
            "Active tunnel: https://9ee4-34-125-143-160.ngrok-free.app\n",
            "Active tunnel: https://9ee4-34-125-143-160.ngrok-free.app\n",
            "Active tunnel: https://9ee4-34-125-143-160.ngrok-free.app\n",
            "Active tunnel: https://9ee4-34-125-143-160.ngrok-free.app\n",
            "Active tunnel: https://9ee4-34-125-143-160.ngrok-free.app\n",
            "Active tunnel: https://9ee4-34-125-143-160.ngrok-free.app\n",
            "Active tunnel: https://9ee4-34-125-143-160.ngrok-free.app\n",
            "Active tunnel: https://9ee4-34-125-143-160.ngrok-free.app\n",
            "Active tunnel: https://9ee4-34-125-143-160.ngrok-free.app\n",
            "Active tunnel: https://9ee4-34-125-143-160.ngrok-free.app\n",
            "Active tunnel: https://9ee4-34-125-143-160.ngrok-free.app\n",
            "Active tunnel: https://9ee4-34-125-143-160.ngrok-free.app\n",
            "Active tunnel: https://9ee4-34-125-143-160.ngrok-free.app\n",
            "Active tunnel: https://9ee4-34-125-143-160.ngrok-free.app\n"
          ]
        }
      ],
      "source": [
        "# Import necessary libraries\n",
        "from pyngrok import ngrok, conf\n",
        "import time\n",
        "\n",
        "# Set your ngrok auth token\n",
        "NGROK_AUTH_TOKEN = \"YOUR_NGROK_AUTH_TOKEN\"  # Your token\n",
        "conf.get_default().auth_token = NGROK_AUTH_TOKEN\n",
        "\n",
        "# Kill any existing Streamlit processes (often necessary in Colab)\n",
        "!pkill -f streamlit || true\n",
        "\n",
        "# Start Streamlit in the background\n",
        "!nohup streamlit run app.py --server.port 8501 &\n",
        "\n",
        "# Wait for Streamlit to start\n",
        "time.sleep(5)  # Give Streamlit a few seconds to start\n",
        "\n",
        "# Create the ngrok tunnel\n",
        "public_url = ngrok.connect(8501)\n",
        "print(\"=\"*50)\n",
        "print(f\"Streamlit is running at: {public_url}\")\n",
        "print(\"=\"*50)\n",
        "\n",
        "# Keep the tunnel alive\n",
        "while True:\n",
        "    try:\n",
        "        # Display current tunnels every 60 seconds (helps keep connection active)\n",
        "        tunnels = ngrok.get_tunnels()\n",
        "        if tunnels:\n",
        "            print(f\"Active tunnel: {tunnels[0].public_url}\")\n",
        "        else:\n",
        "            print(\"No active tunnels. Reconnecting...\")\n",
        "            public_url = ngrok.connect(8501)\n",
        "            print(f\"New tunnel: {public_url}\")\n",
        "        time.sleep(60)\n",
        "    except KeyboardInterrupt:\n",
        "        print(\"Closing tunnel...\")\n",
        "        ngrok.kill()\n",
        "        break\n",
        "    except Exception as e:\n",
        "        print(f\"Error: {e}\")\n",
        "        time.sleep(5)"
      ]
    },
    {
      "cell_type": "code",
      "execution_count": null,
      "metadata": {
        "id": "FJ0K5mwddFU3"
      },
      "outputs": [],
      "source": []
    }
  ],
  "metadata": {
    "accelerator": "GPU",
    "colab": {
      "gpuType": "T4",
      "provenance": [],
      "toc_visible": true
    },
    "kernelspec": {
      "display_name": "Python 3",
      "name": "python3"
    },
    "language_info": {
      "name": "python"
    }
  },
  "nbformat": 4,
  "nbformat_minor": 0
}
